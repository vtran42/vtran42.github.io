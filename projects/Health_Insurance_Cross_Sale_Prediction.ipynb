{
  "nbformat": 4,
  "nbformat_minor": 0,
  "metadata": {
    "colab": {
      "name": "Health Insurance Cross Sale Prediction.ipynb",
      "provenance": [],
      "collapsed_sections": []
    },
    "kernelspec": {
      "name": "python3",
      "display_name": "Python 3"
    }
  },
  "cells": [
    {
      "cell_type": "code",
      "metadata": {
        "colab": {
          "base_uri": "https://localhost:8080/"
        },
        "id": "duJRDT3--rfR",
        "outputId": "ec28f9e6-f749-42a2-ecb2-5267bc288cfa"
      },
      "source": [
        "from google.colab import drive\n",
        "drive.mount('/content/drive')"
      ],
      "execution_count": null,
      "outputs": [
        {
          "output_type": "stream",
          "text": [
            "Mounted at /content/drive\n"
          ],
          "name": "stdout"
        }
      ]
    },
    {
      "cell_type": "code",
      "metadata": {
        "id": "zS3TeJWy_DZX",
        "colab": {
          "base_uri": "https://localhost:8080/"
        },
        "outputId": "dff147dd-f020-43af-f6ae-d31f6e97b0a3"
      },
      "source": [
        "import pandas as pd\n",
        "import numpy as np\n",
        "import seaborn as sn\n",
        "from imblearn.over_sampling import SMOTE\n",
        "import random\n",
        "import math\n",
        "import pprint\n",
        "from collections import Counter\n",
        "import matplotlib.pyplot as plt"
      ],
      "execution_count": null,
      "outputs": [
        {
          "output_type": "stream",
          "text": [
            "/usr/local/lib/python3.6/dist-packages/sklearn/externals/six.py:31: FutureWarning: The module is deprecated in version 0.21 and will be removed in version 0.23 since we've dropped support for Python 2.7. Please rely on the official version of six (https://pypi.org/project/six/).\n",
            "  \"(https://pypi.org/project/six/).\", FutureWarning)\n",
            "/usr/local/lib/python3.6/dist-packages/sklearn/utils/deprecation.py:144: FutureWarning: The sklearn.neighbors.base module is  deprecated in version 0.22 and will be removed in version 0.24. The corresponding classes / functions should instead be imported from sklearn.neighbors. Anything that cannot be imported from sklearn.neighbors is now part of the private API.\n",
            "  warnings.warn(message, FutureWarning)\n"
          ],
          "name": "stderr"
        }
      ]
    },
    {
      "cell_type": "code",
      "metadata": {
        "colab": {
          "base_uri": "https://localhost:8080/"
        },
        "id": "Ge46DcmH_3j5",
        "outputId": "4fdae659-dc39-4229-989b-a50ab9ad0523"
      },
      "source": [
        "insurance_data = pd.read_csv('/content/drive/MyDrive/UCR_Courses/cs235_DataMining/Project/train.csv')\n",
        "orig_insurance_data = insurance_data\n",
        "insurance_data.shape #print out the dimension of data"
      ],
      "execution_count": null,
      "outputs": [
        {
          "output_type": "execute_result",
          "data": {
            "text/plain": [
              "(381109, 12)"
            ]
          },
          "metadata": {
            "tags": []
          },
          "execution_count": 3
        }
      ]
    },
    {
      "cell_type": "code",
      "metadata": {
        "id": "dEVQgU3FFDpG"
      },
      "source": [
        "def printDataInformation(data):\n",
        "  data.shape\n",
        "  data.info()"
      ],
      "execution_count": null,
      "outputs": []
    },
    {
      "cell_type": "code",
      "metadata": {
        "id": "5nBJXpefuUCV"
      },
      "source": [
        "def printHistogram(data, index):\n",
        "  columns_name = list(data.columns)\n",
        "  plt.hist(data[columns_name[index]])\n",
        "  print (columns_name[index])"
      ],
      "execution_count": null,
      "outputs": []
    },
    {
      "cell_type": "code",
      "metadata": {
        "colab": {
          "base_uri": "https://localhost:8080/",
          "height": 282
        },
        "id": "-S47zZe8u-Xm",
        "outputId": "adaf0609-90bb-4000-b6ba-299f9ce34a21"
      },
      "source": [
        "printHistogram(insurance_data,1)"
      ],
      "execution_count": null,
      "outputs": [
        {
          "output_type": "stream",
          "text": [
            "Gender\n"
          ],
          "name": "stdout"
        },
        {
          "output_type": "display_data",
          "data": {
            "image/png": "[encoded data removed]",
            "text/plain": [
              "<Figure size 432x288 with 1 Axes>"
            ]
          },
          "metadata": {
            "tags": [],
            "needs_background": "light"
          }
        }
      ]
    },
    {
      "cell_type": "code",
      "metadata": {
        "colab": {
          "base_uri": "https://localhost:8080/",
          "height": 282
        },
        "id": "XIvv8gDkwAf6",
        "outputId": "642e0ad1-647b-4d3f-8e49-2c2d5d85055c"
      },
      "source": [
        "printHistogram(insurance_data,2)"
      ],
      "execution_count": null,
      "outputs": [
        {
          "output_type": "stream",
          "text": [
            "Age\n"
          ],
          "name": "stdout"
        },
        {
          "output_type": "display_data",
          "data": {
            "image/png": "[encoded data removed]",
            "text/plain": [
              "<Figure size 432x288 with 1 Axes>"
            ]
          },
          "metadata": {
            "tags": [],
            "needs_background": "light"
          }
        }
      ]
    },
    {
      "cell_type": "code",
      "metadata": {
        "colab": {
          "base_uri": "https://localhost:8080/",
          "height": 282
        },
        "id": "kOK_wIFowJCq",
        "outputId": "cfdc148b-973d-4f4f-c841-64bb28b23976"
      },
      "source": [
        "printHistogram(insurance_data,3)"
      ],
      "execution_count": null,
      "outputs": [
        {
          "output_type": "stream",
          "text": [
            "Driving_License\n"
          ],
          "name": "stdout"
        },
        {
          "output_type": "display_data",
          "data": {
            "image/png": "[encoded data removed]",
            "text/plain": [
              "<Figure size 432x288 with 1 Axes>"
            ]
          },
          "metadata": {
            "tags": [],
            "needs_background": "light"
          }
        }
      ]
    },
    {
      "cell_type": "code",
      "metadata": {
        "colab": {
          "base_uri": "https://localhost:8080/",
          "height": 282
        },
        "id": "nBKu1BebwL9c",
        "outputId": "8908320e-7133-49d2-e54a-8473279e46fd"
      },
      "source": [
        "printHistogram(insurance_data,4)"
      ],
      "execution_count": null,
      "outputs": [
        {
          "output_type": "stream",
          "text": [
            "Region_Code\n"
          ],
          "name": "stdout"
        },
        {
          "output_type": "display_data",
          "data": {
            "image/png": "[encoded data removed]",
            "text/plain": [
              "<Figure size 432x288 with 1 Axes>"
            ]
          },
          "metadata": {
            "tags": [],
            "needs_background": "light"
          }
        }
      ]
    },
    {
      "cell_type": "code",
      "metadata": {
        "colab": {
          "base_uri": "https://localhost:8080/",
          "height": 282
        },
        "id": "nrhVDtxowOnd",
        "outputId": "b03c9b08-cea3-4f5d-85e1-6b0882fedfa1"
      },
      "source": [
        "printHistogram(insurance_data,5)"
      ],
      "execution_count": null,
      "outputs": [
        {
          "output_type": "stream",
          "text": [
            "Previously_Insured\n"
          ],
          "name": "stdout"
        },
        {
          "output_type": "display_data",
          "data": {
            "image/png": "[encoded data removed]",
            "text/plain": [
              "<Figure size 432x288 with 1 Axes>"
            ]
          },
          "metadata": {
            "tags": [],
            "needs_background": "light"
          }
        }
      ]
    },
    {
      "cell_type": "code",
      "metadata": {
        "colab": {
          "base_uri": "https://localhost:8080/",
          "height": 282
        },
        "id": "MF3W3gEqwP89",
        "outputId": "e490f3d7-76f7-4f8f-8645-9bdc701db6a2"
      },
      "source": [
        "printHistogram(insurance_data,6)"
      ],
      "execution_count": null,
      "outputs": [
        {
          "output_type": "stream",
          "text": [
            "Vehicle_Age\n"
          ],
          "name": "stdout"
        },
        {
          "output_type": "display_data",
          "data": {
            "image/png": "[encoded data removed]",
            "text/plain": [
              "<Figure size 432x288 with 1 Axes>"
            ]
          },
          "metadata": {
            "tags": [],
            "needs_background": "light"
          }
        }
      ]
    },
    {
      "cell_type": "code",
      "metadata": {
        "colab": {
          "base_uri": "https://localhost:8080/",
          "height": 284
        },
        "id": "SIIbtx52wRfF",
        "outputId": "226ed5c0-a2a2-4c52-9fd1-84a60408cc3d"
      },
      "source": [
        "printHistogram(insurance_data,7)"
      ],
      "execution_count": null,
      "outputs": [
        {
          "output_type": "stream",
          "text": [
            "Vehicle_Damage\n"
          ],
          "name": "stdout"
        },
        {
          "output_type": "display_data",
          "data": {
            "image/png": "[encoded data removed]",
            "text/plain": [
              "<Figure size 432x288 with 1 Axes>"
            ]
          },
          "metadata": {
            "tags": [],
            "needs_background": "light"
          }
        }
      ]
    },
    {
      "cell_type": "code",
      "metadata": {
        "colab": {
          "base_uri": "https://localhost:8080/",
          "height": 282
        },
        "id": "Y6N8NfofwTFH",
        "outputId": "89788e34-f98a-44d7-b2f9-18f63e0698df"
      },
      "source": [
        "printHistogram(insurance_data,8)"
      ],
      "execution_count": null,
      "outputs": [
        {
          "output_type": "stream",
          "text": [
            "Annual_Premium\n"
          ],
          "name": "stdout"
        },
        {
          "output_type": "display_data",
          "data": {
            "image/png": "[encoded data removed]",
            "text/plain": [
              "<Figure size 432x288 with 1 Axes>"
            ]
          },
          "metadata": {
            "tags": [],
            "needs_background": "light"
          }
        }
      ]
    },
    {
      "cell_type": "code",
      "metadata": {
        "colab": {
          "base_uri": "https://localhost:8080/",
          "height": 282
        },
        "id": "8lqLf026wUh1",
        "outputId": "a6301e3c-bc26-460b-98f3-f92f00c75e86"
      },
      "source": [
        "printHistogram(insurance_data,9)"
      ],
      "execution_count": null,
      "outputs": [
        {
          "output_type": "stream",
          "text": [
            "Policy_Sales_Channel\n"
          ],
          "name": "stdout"
        },
        {
          "output_type": "display_data",
          "data": {
            "image/png": "[encoded data removed]",
            "text/plain": [
              "<Figure size 432x288 with 1 Axes>"
            ]
          },
          "metadata": {
            "tags": [],
            "needs_background": "light"
          }
        }
      ]
    },
    {
      "cell_type": "code",
      "metadata": {
        "colab": {
          "base_uri": "https://localhost:8080/",
          "height": 285
        },
        "id": "XH1c2DQbwXJx",
        "outputId": "f9c26246-266e-4a7f-d2f9-a68f0b3f9168"
      },
      "source": [
        "printHistogram(insurance_data,10)"
      ],
      "execution_count": null,
      "outputs": [
        {
          "output_type": "stream",
          "text": [
            "Vintage\n"
          ],
          "name": "stdout"
        },
        {
          "output_type": "display_data",
          "data": {
            "image/png": "[encoded data removed]",
            "text/plain": [
              "<Figure size 432x288 with 1 Axes>"
            ]
          },
          "metadata": {
            "tags": [],
            "needs_background": "light"
          }
        }
      ]
    },
    {
      "cell_type": "code",
      "metadata": {
        "id": "zlg9TnkfwipJ",
        "colab": {
          "base_uri": "https://localhost:8080/",
          "height": 286
        },
        "outputId": "b1b4c821-9d9a-473d-81c3-526f5f3635e2"
      },
      "source": [
        "printHistogram(insurance_data,11)"
      ],
      "execution_count": null,
      "outputs": [
        {
          "output_type": "stream",
          "text": [
            "Response\n"
          ],
          "name": "stdout"
        },
        {
          "output_type": "display_data",
          "data": {
            "image/png": "[encoded data removed]",
            "text/plain": [
              "<Figure size 432x288 with 1 Axes>"
            ]
          },
          "metadata": {
            "tags": [],
            "needs_background": "light"
          }
        }
      ]
    },
    {
      "cell_type": "markdown",
      "metadata": {
        "id": "4Mj4VgdOAwRB"
      },
      "source": [
        "# Clean up the data\n",
        "\n",
        "- ID: No use\n",
        "-\tGender (2): Male (1), Female (0)\n",
        "-\tAge (4): 20 - 25, 26-40, 41-60, 61-\n",
        "-\tDriving_License (2): 0 (No DL), 1 (DL)\n",
        "-\tRegion_Code (3): 0-15, 26-30, 31-40, 41-\n",
        "-\tPrevious_Insured (2): 1 (Yes), 0 (No)\n",
        "-\tVehicle Age (3): 0 (< 1 year), 1 (1-2 year), 2 (> 2 year)\n",
        "-\tVehicle_damage (2): 1(yes), 0 (No)\n",
        "-\tAnual_Premium (4): 0-20000, 20000-35000, 35000-45000, 45000-\n",
        "-\tPolicySalesChannel (3):  0-35, 36-130, 130-\n",
        "-\tVintage (3): 0 -100, 100-200, 200-300 \n"
      ]
    },
    {
      "cell_type": "code",
      "metadata": {
        "id": "pDPTluvBBTq6"
      },
      "source": [
        "# Drop the id column\n",
        "insurance_data = insurance_data.drop('id', axis=1)"
      ],
      "execution_count": null,
      "outputs": []
    },
    {
      "cell_type": "code",
      "metadata": {
        "colab": {
          "base_uri": "https://localhost:8080/"
        },
        "id": "KPRE748zBUve",
        "outputId": "b59ad40d-0e89-48ba-c9dc-e6ba274c40ff"
      },
      "source": [
        "insurance_data.shape\n",
        "insurance_data.info()"
      ],
      "execution_count": null,
      "outputs": [
        {
          "output_type": "stream",
          "text": [
            "<class 'pandas.core.frame.DataFrame'>\n",
            "RangeIndex: 381109 entries, 0 to 381108\n",
            "Data columns (total 11 columns):\n",
            " #   Column                Non-Null Count   Dtype  \n",
            "---  ------                --------------   -----  \n",
            " 0   Gender                381109 non-null  object \n",
            " 1   Age                   381109 non-null  int64  \n",
            " 2   Driving_License       381109 non-null  int64  \n",
            " 3   Region_Code           381109 non-null  float64\n",
            " 4   Previously_Insured    381109 non-null  int64  \n",
            " 5   Vehicle_Age           381109 non-null  object \n",
            " 6   Vehicle_Damage        381109 non-null  object \n",
            " 7   Annual_Premium        381109 non-null  float64\n",
            " 8   Policy_Sales_Channel  381109 non-null  float64\n",
            " 9   Vintage               381109 non-null  int64  \n",
            " 10  Response              381109 non-null  int64  \n",
            "dtypes: float64(3), int64(5), object(3)\n",
            "memory usage: 32.0+ MB\n"
          ],
          "name": "stdout"
        }
      ]
    },
    {
      "cell_type": "markdown",
      "metadata": {
        "id": "e8n_IWEiMxJR"
      },
      "source": [
        "## Age"
      ]
    },
    {
      "cell_type": "code",
      "metadata": {
        "id": "aZbnEVPlD2h-",
        "colab": {
          "base_uri": "https://localhost:8080/"
        },
        "outputId": "e66128a9-da77-45f7-a7f3-56ae68a86cd4"
      },
      "source": [
        "insurance_data['Age'] = np.where(insurance_data['Age'].between(0,25,inclusive=True), 1, insurance_data['Age'])\n",
        "insurance_data['Age'] = np.where(insurance_data['Age'].between(26,40,inclusive=True), 2, insurance_data['Age'])\n",
        "insurance_data['Age'] = np.where(insurance_data['Age'].between(41,60,inclusive=True), 3, insurance_data['Age'])\n",
        "insurance_data['Age'] = np.where(insurance_data['Age'].between(61,100,inclusive=True), 4, insurance_data['Age'])\n",
        "#print (insurance_data['Age'])\n",
        "print (np.unique(insurance_data['Age'],return_counts=True))"
      ],
      "execution_count": null,
      "outputs": [
        {
          "output_type": "stream",
          "text": [
            "(array([1, 2, 3, 4]), array([114505, 102119, 121246,  43239]))\n"
          ],
          "name": "stdout"
        }
      ]
    },
    {
      "cell_type": "code",
      "metadata": {
        "id": "9bYBzo_6M4CZ",
        "colab": {
          "base_uri": "https://localhost:8080/"
        },
        "outputId": "2f8b832e-675f-4a64-97ed-8bc17130c92e"
      },
      "source": [
        "insurance_data['Age'] = np.where(insurance_data['Age']== 1, '< 26', insurance_data['Age'])\n",
        "insurance_data['Age'] = np.where(insurance_data['Age']=='2', '26-40', insurance_data['Age'])\n",
        "insurance_data['Age'] = np.where(insurance_data['Age']=='3', '41-60', insurance_data['Age'])\n",
        "insurance_data['Age'] = np.where(insurance_data['Age']=='4', '> 60', insurance_data['Age'])\n",
        "#print (insurance_data['Age'])\n",
        "print (np.unique(insurance_data['Age'],return_counts=True))"
      ],
      "execution_count": null,
      "outputs": [
        {
          "output_type": "stream",
          "text": [
            "(array(['26-40', '41-60', '< 26', '> 60'], dtype=object), array([102119, 121246, 114505,  43239]))\n"
          ],
          "name": "stdout"
        }
      ]
    },
    {
      "cell_type": "code",
      "metadata": {
        "id": "189zkWBtnc2r"
      },
      "source": [
        "def cleanUpData(myData): \n",
        "    # Region_Code\n",
        "    myData['Region_Code'] = np.where(myData['Region_Code'].between(0,25), 0, myData['Region_Code'])\n",
        "   # myData['Region_Code'].replace({1, \"0-25\"})\n",
        "    myData['Region_Code'] = np.where(myData['Region_Code'].between(25,30), 1, myData['Region_Code'])\n",
        "    myData['Region_Code'] = np.where(myData['Region_Code'].between(30,40), 2, myData['Region_Code'])\n",
        "    myData['Region_Code'] = myData['Region_Code'].mask(myData['Region_Code'] > 40, 3)\n",
        "    \n",
        "    # Annual_Premium\n",
        "    myData['Annual_Premium'] = np.where(myData['Annual_Premium'].between(0,20000), 0, myData['Annual_Premium'])\n",
        "    myData['Annual_Premium'] = np.where(myData['Annual_Premium'].between(20000,35000), 1, myData['Annual_Premium'])\n",
        "    myData['Annual_Premium'] = np.where(myData['Annual_Premium'].between(35000,45000), 2, myData['Annual_Premium'])\n",
        "    myData['Annual_Premium'] = myData['Annual_Premium'].mask(myData['Annual_Premium'] > 45000, 3)\n",
        "    \n",
        "    # Policy_Sales_Channel\n",
        "    myData['Policy_Sales_Channel'] = np.where(myData['Policy_Sales_Channel'].between(0,35), 0, myData['Policy_Sales_Channel'])\n",
        "    myData['Policy_Sales_Channel'] = np.where(myData['Policy_Sales_Channel'].between(35,130), 1, myData['Policy_Sales_Channel'])\n",
        "    myData['Policy_Sales_Channel'] = myData['Policy_Sales_Channel'].mask(myData['Policy_Sales_Channel'] > 130, 2)\n",
        "    \n",
        "    # Vintage\n",
        "    myData['Vintage'] = np.where(myData['Vintage'].between(0,100), 0, myData['Vintage'])\n",
        "    myData['Vintage'] = np.where(myData['Vintage'].between(100,200), 1, myData['Vintage'])\n",
        "    myData['Vintage'] = myData['Vintage'].mask(myData['Vintage'] > 200, 2)"
      ],
      "execution_count": null,
      "outputs": []
    },
    {
      "cell_type": "code",
      "metadata": {
        "colab": {
          "base_uri": "https://localhost:8080/"
        },
        "id": "b7ayEGGinykH",
        "outputId": "26478a6d-ff17-4c29-d860-83c87173d73e"
      },
      "source": [
        "cleanUpData(insurance_data)\n",
        "print(insurance_data)\n",
        "insurance_data.info()"
      ],
      "execution_count": null,
      "outputs": [
        {
          "output_type": "stream",
          "text": [
            "        Gender    Age  Driving_License  ...  Policy_Sales_Channel  Vintage Response\n",
            "0         Male  41-60                1  ...                   0.0        2        1\n",
            "1         Male   > 60                1  ...                   0.0        1        0\n",
            "2         Male  41-60                1  ...                   0.0        0        1\n",
            "3         Male   < 26                1  ...                   2.0        2        0\n",
            "4       Female  26-40                1  ...                   2.0        0        0\n",
            "...        ...    ...              ...  ...                   ...      ...      ...\n",
            "381104    Male   > 60                1  ...                   0.0        0        0\n",
            "381105    Male  26-40                1  ...                   2.0        1        0\n",
            "381106    Male   < 26                1  ...                   2.0        1        0\n",
            "381107  Female   > 60                1  ...                   1.0        0        0\n",
            "381108    Male  41-60                1  ...                   0.0        2        0\n",
            "\n",
            "[381109 rows x 11 columns]\n",
            "<class 'pandas.core.frame.DataFrame'>\n",
            "RangeIndex: 381109 entries, 0 to 381108\n",
            "Data columns (total 11 columns):\n",
            " #   Column                Non-Null Count   Dtype  \n",
            "---  ------                --------------   -----  \n",
            " 0   Gender                381109 non-null  object \n",
            " 1   Age                   381109 non-null  object \n",
            " 2   Driving_License       381109 non-null  int64  \n",
            " 3   Region_Code           381109 non-null  float64\n",
            " 4   Previously_Insured    381109 non-null  int64  \n",
            " 5   Vehicle_Age           381109 non-null  object \n",
            " 6   Vehicle_Damage        381109 non-null  object \n",
            " 7   Annual_Premium        381109 non-null  float64\n",
            " 8   Policy_Sales_Channel  381109 non-null  float64\n",
            " 9   Vintage               381109 non-null  int64  \n",
            " 10  Response              381109 non-null  int64  \n",
            "dtypes: float64(3), int64(4), object(4)\n",
            "memory usage: 32.0+ MB\n"
          ],
          "name": "stdout"
        }
      ]
    },
    {
      "cell_type": "code",
      "metadata": {
        "colab": {
          "base_uri": "https://localhost:8080/",
          "height": 333
        },
        "id": "GFZMt03htmPe",
        "outputId": "1b414a53-c15e-43bb-e30c-ab72e4dec4f0"
      },
      "source": [
        "plt.hist(insurance_data['Age'])"
      ],
      "execution_count": null,
      "outputs": [
        {
          "output_type": "execute_result",
          "data": {
            "text/plain": [
              "(array([121246.,      0.,      0.,  43239.,      0.,      0., 114505.,\n",
              "             0.,      0., 102119.]),\n",
              " array([0. , 0.3, 0.6, 0.9, 1.2, 1.5, 1.8, 2.1, 2.4, 2.7, 3. ]),\n",
              " <a list of 10 Patch objects>)"
            ]
          },
          "metadata": {
            "tags": []
          },
          "execution_count": 23
        },
        {
          "output_type": "display_data",
          "data": {
            "image/png": "[encoded data removed]",
            "text/plain": [
              "<Figure size 432x288 with 1 Axes>"
            ]
          },
          "metadata": {
            "tags": [],
            "needs_background": "light"
          }
        }
      ]
    },
    {
      "cell_type": "markdown",
      "metadata": {
        "id": "xaO2CMRhBVNh"
      },
      "source": [
        "# Split the original data set into training set and testing set"
      ]
    },
    {
      "cell_type": "code",
      "metadata": {
        "id": "S7zX0J-RBcox"
      },
      "source": [
        "def split_train_test(data_frame, test_size):\n",
        "   \"\"\"\n",
        "        Splitting the data frame by training data and test data\n",
        "    Parameters\n",
        "    ----------\n",
        "    df : data Frame\n",
        "        Original Data that need to split by training data and testing data.\n",
        "    test_size : percent of original data\n",
        "        Percent in decimal number such as 0.5 for 50%, 0.2 for 20%. \n",
        "        It means that there are 20% test data.\n",
        "\n",
        "    Returns\n",
        "    -------\n",
        "    train_df : data Frame\n",
        "        trainning data set.\n",
        "    test_df : data Frame\n",
        "        testing data set.\n",
        "\n",
        "    \"\"\"\n",
        "   number_test_indices = round(test_size * len(data_frame))\n",
        "    # pick random test indices from orginal data \n",
        "   test_indices = random.sample(population=data_frame.index.tolist(), k=number_test_indices)\n",
        "   test_df = data_frame.loc[test_indices]  # get the test data \n",
        "   train_df = data_frame.drop(test_indices) # get the training data \n",
        "\n",
        "   return train_df, test_df"
      ],
      "execution_count": null,
      "outputs": []
    },
    {
      "cell_type": "code",
      "metadata": {
        "id": "tQxHYRZnF_gf"
      },
      "source": [
        "training_set, testing_set  = split_train_test(insurance_data, 0.9)"
      ],
      "execution_count": null,
      "outputs": []
    },
    {
      "cell_type": "code",
      "metadata": {
        "colab": {
          "base_uri": "https://localhost:8080/"
        },
        "id": "QZAbMpfIGCu4",
        "outputId": "9a243c80-7c73-4f80-a4f1-0e8807294820"
      },
      "source": [
        "printDataInformation(training_set)"
      ],
      "execution_count": null,
      "outputs": [
        {
          "output_type": "stream",
          "text": [
            "<class 'pandas.core.frame.DataFrame'>\n",
            "Int64Index: 38111 entries, 8 to 381104\n",
            "Data columns (total 11 columns):\n",
            " #   Column                Non-Null Count  Dtype  \n",
            "---  ------                --------------  -----  \n",
            " 0   Gender                38111 non-null  object \n",
            " 1   Age                   38111 non-null  object \n",
            " 2   Driving_License       38111 non-null  int64  \n",
            " 3   Region_Code           38111 non-null  float64\n",
            " 4   Previously_Insured    38111 non-null  int64  \n",
            " 5   Vehicle_Age           38111 non-null  object \n",
            " 6   Vehicle_Damage        38111 non-null  object \n",
            " 7   Annual_Premium        38111 non-null  float64\n",
            " 8   Policy_Sales_Channel  38111 non-null  float64\n",
            " 9   Vintage               38111 non-null  int64  \n",
            " 10  Response              38111 non-null  int64  \n",
            "dtypes: float64(3), int64(4), object(4)\n",
            "memory usage: 3.5+ MB\n"
          ],
          "name": "stdout"
        }
      ]
    },
    {
      "cell_type": "code",
      "metadata": {
        "colab": {
          "base_uri": "https://localhost:8080/"
        },
        "id": "qH5FYI1xGBbb",
        "outputId": "fdcf301a-9993-4353-9828-a5b82d5ad06d"
      },
      "source": [
        "printDataInformation(testing_set)"
      ],
      "execution_count": null,
      "outputs": [
        {
          "output_type": "stream",
          "text": [
            "<class 'pandas.core.frame.DataFrame'>\n",
            "Int64Index: 342998 entries, 365485 to 120665\n",
            "Data columns (total 11 columns):\n",
            " #   Column                Non-Null Count   Dtype  \n",
            "---  ------                --------------   -----  \n",
            " 0   Gender                342998 non-null  object \n",
            " 1   Age                   342998 non-null  object \n",
            " 2   Driving_License       342998 non-null  int64  \n",
            " 3   Region_Code           342998 non-null  float64\n",
            " 4   Previously_Insured    342998 non-null  int64  \n",
            " 5   Vehicle_Age           342998 non-null  object \n",
            " 6   Vehicle_Damage        342998 non-null  object \n",
            " 7   Annual_Premium        342998 non-null  float64\n",
            " 8   Policy_Sales_Channel  342998 non-null  float64\n",
            " 9   Vintage               342998 non-null  int64  \n",
            " 10  Response              342998 non-null  int64  \n",
            "dtypes: float64(3), int64(4), object(4)\n",
            "memory usage: 31.4+ MB\n"
          ],
          "name": "stdout"
        }
      ]
    },
    {
      "cell_type": "code",
      "metadata": {
        "id": "XLTvLDuuGFCs"
      },
      "source": [
        ""
      ],
      "execution_count": null,
      "outputs": []
    },
    {
      "cell_type": "markdown",
      "metadata": {
        "id": "Ut9HE-B-BgEC"
      },
      "source": [
        "# Decision Tree Implementation start here"
      ]
    },
    {
      "cell_type": "code",
      "metadata": {
        "id": "R0QEICElBf2T"
      },
      "source": [
        "def shannonEntropy (target_list):\n",
        "    \"\"\"\n",
        "    \n",
        "    Shannon's entropy of target_list, target variable is Response\n",
        "    \n",
        "    Parameters\n",
        "    ----------\n",
        "    target_list : list\n",
        "        Column of target variable or feature variable \n",
        "\n",
        "    Returns\n",
        "    -------\n",
        "    float\n",
        "        Shannon's Entropy of target list.\n",
        "\n",
        "    \"\"\"\n",
        "    total = len(target_list) #count total number in response list\n",
        "    # Get the level of response list and counter of each\n",
        "    levels, count = np.unique(target_list, return_counts=True)\n",
        "   #print (levels)\n",
        "    #print (count)\n",
        "    # Calculate the probability of each level in target variable\n",
        "    probability_each_level = count / total\n",
        "   # print(probability_each_level)\n",
        "    entropy = 0\n",
        "    for i in probability_each_level:\n",
        "        entropy += i * math.log(i,2)\n",
        "    \n",
        "    #print(-entropy )\n",
        "    return -entropy"
      ],
      "execution_count": null,
      "outputs": []
    },
    {
      "cell_type": "code",
      "metadata": {
        "colab": {
          "base_uri": "https://localhost:8080/"
        },
        "id": "QgtFjSNXErGO",
        "outputId": "b4a89715-9d07-426d-a942-0b0babe55612"
      },
      "source": [
        "print(shannonEntropy(training_set['Response']))"
      ],
      "execution_count": null,
      "outputs": [
        {
          "output_type": "stream",
          "text": [
            "0.5376515339986694\n"
          ],
          "name": "stdout"
        }
      ]
    },
    {
      "cell_type": "code",
      "metadata": {
        "id": "Vtf5-nk3E8Us"
      },
      "source": [
        "def remaining_Entropy(data, feature):\n",
        "    \"\"\"\n",
        "    Calculate remaininig entropy of the given features in data.\n",
        "    Parameters\n",
        "    ----------\n",
        "    data : data frame\n",
        "        Data that contain feature and target variable column.\n",
        "    feature : list \n",
        "        feature column .\n",
        "\n",
        "    Returns\n",
        "    -------\n",
        "    rem : float\n",
        "        Entropy remaining of feature variable\n",
        "\n",
        "    \"\"\"\n",
        "    feature_levels, feature_count = np.unique(data[feature], return_counts=True)\n",
        "    #print (feature_levels)\n",
        "    #print (feature_count)\n",
        "    partition_entropy = []\n",
        "    for i in range(len(feature_levels)):\n",
        "        partition_entropy.append( shannonEntropy(data.where(data[feature] == feature_levels[i]).dropna()['Response']))\n",
        "    rem = 0\n",
        "    for i in range(len(feature_levels)):\n",
        "        rem += feature_count[i] / np.sum(feature_count) * partition_entropy[i]\n",
        "   \n",
        "    #print (rem)\n",
        "    return rem"
      ],
      "execution_count": null,
      "outputs": []
    },
    {
      "cell_type": "code",
      "metadata": {
        "colab": {
          "base_uri": "https://localhost:8080/"
        },
        "id": "tThESy5lFbXU",
        "outputId": "a80d6e70-6c15-4399-ab06-baef4f4a67c2"
      },
      "source": [
        "remaining_Entropy(training_set, 'Gender')"
      ],
      "execution_count": null,
      "outputs": [
        {
          "output_type": "execute_result",
          "data": {
            "text/plain": [
              "0.5356701416443791"
            ]
          },
          "metadata": {
            "tags": []
          },
          "execution_count": 31
        }
      ]
    },
    {
      "cell_type": "code",
      "metadata": {
        "id": "Icqd8ySSGvlK"
      },
      "source": [
        "def information_Gain(data, feature):\n",
        "    \"\"\"\n",
        "    Return the information gain of the feature in the data frame, target variable is Response\n",
        "    Parameters\n",
        "    ----------\n",
        "    data : data frame\n",
        "        Data .\n",
        "    feature : list\n",
        "        Feature column.\n",
        "\n",
        "    Returns\n",
        "    -------\n",
        "    float\n",
        "        information gain of the given feature in the data.\n",
        "\n",
        "    \"\"\"\n",
        "    \n",
        "    return shannonEntropy(data['Response']) - remaining_Entropy(data, feature) \n"
      ],
      "execution_count": null,
      "outputs": []
    },
    {
      "cell_type": "code",
      "metadata": {
        "colab": {
          "base_uri": "https://localhost:8080/"
        },
        "id": "DERDOF9LGz-w",
        "outputId": "16752886-6a6d-45a5-eb4e-44a502df99ef"
      },
      "source": [
        "print(information_Gain(training_set, 'Gender'))"
      ],
      "execution_count": null,
      "outputs": [
        {
          "output_type": "stream",
          "text": [
            "0.00198139235429029\n"
          ],
          "name": "stdout"
        }
      ]
    },
    {
      "cell_type": "code",
      "metadata": {
        "id": "XTHH5mTGHnDz"
      },
      "source": [
        "def is_unique_instance(data):\n",
        "   if len(np.unique(data['Response'])) == 1:\n",
        "      return True\n",
        "   else:\n",
        "      return False"
      ],
      "execution_count": null,
      "outputs": []
    },
    {
      "cell_type": "code",
      "metadata": {
        "colab": {
          "base_uri": "https://localhost:8080/"
        },
        "id": "8h8FsALOHqiZ",
        "outputId": "1950100c-3d16-4ae3-a24f-baafa5d32138"
      },
      "source": [
        "print(is_unique_instance(training_set))"
      ],
      "execution_count": null,
      "outputs": [
        {
          "output_type": "stream",
          "text": [
            "False\n"
          ],
          "name": "stdout"
        }
      ]
    },
    {
      "cell_type": "code",
      "metadata": {
        "id": "RCDSUIX3H2hX"
      },
      "source": [
        "def find_best_features(data, features_list):\n",
        "   \"\"\"\n",
        "   \n",
        "   Parameters\n",
        "   --------------------\n",
        "   data: data frame\n",
        "     data \n",
        "   features_list: list \n",
        "      contains all the features name\n",
        "\n",
        "   Returns\n",
        "   --------------\n",
        "   best_feature: string\n",
        "      name of the best features in the list\n",
        "   \"\"\"\n",
        "   igain = -1\n",
        "   best_feature = ''\n",
        "   for i in features_list:\n",
        "      igain_i = information_Gain(data, i)\n",
        "      if igain < igain_i:\n",
        "         igain = igain_i\n",
        "         best_feature = i\n",
        "   \n",
        "   return best_feature"
      ],
      "execution_count": null,
      "outputs": []
    },
    {
      "cell_type": "code",
      "metadata": {
        "colab": {
          "base_uri": "https://localhost:8080/"
        },
        "id": "iPZgDWOJH4Lg",
        "outputId": "20d50e7e-541b-4cf4-eed5-ab777733702e"
      },
      "source": [
        "print(find_best_features(training_set, training_set.columns[:-1]))\n",
        "# need to clearn up data first"
      ],
      "execution_count": null,
      "outputs": [
        {
          "output_type": "stream",
          "text": [
            "Previously_Insured\n"
          ],
          "name": "stdout"
        }
      ]
    },
    {
      "cell_type": "code",
      "metadata": {
        "id": "ZHWBuGbloNwW"
      },
      "source": [
        "def ID3(data,originaldata,features,target_attribute_name=\"Response\",parent_node_class = None):\n",
        "    \n",
        "    if len(np.unique(data[target_attribute_name])) <= 1:\n",
        "        return np.unique(data[target_attribute_name])[0]\n",
        "    \n",
        "    #If the dataset is empty, return the mode target feature value in the original dataset\n",
        "    elif len(data)==0:\n",
        "        return np.unique(originaldata[target_attribute_name])[np.argmax(np.unique(originaldata[target_attribute_name],return_counts=True)[1])]\n",
        "    \n",
        "    #If the feature space is empty, return the mode target feature value of the direct parent node --> Note that\n",
        "\n",
        "    elif len(features) ==0:\n",
        "        return parent_node_class\n",
        "    \n",
        "    #If none of the above holds true, grow the tree!\n",
        "    \n",
        "    else:\n",
        "        #Set the default value for this node --> The mode target feature value of the current node\n",
        "        parent_node_class = np.unique(data[target_attribute_name])[np.argmax(np.unique(data[target_attribute_name],return_counts=True)[1])]\n",
        "        \n",
        "        #Select the feature which best splits the dataset\n",
        "        item_values = [information_Gain(data,feature) for feature in features] #Return the information gain values for the features in the dataset\n",
        "        best_feature_index = np.argmax(item_values)\n",
        "        best_feature = features[best_feature_index]\n",
        "        \n",
        "        #Create the tree structure. The root gets the name of the feature (best_feature) with the maximum information\n",
        "        #gain in the first run\n",
        "        tree = {best_feature:{}}\n",
        "        \n",
        "        \n",
        "        #Remove the feature with the best inforamtion gain from the feature space\n",
        "        features = [i for i in features if i != best_feature]\n",
        "        \n",
        "        #Grow a branch under the root node for each possible value of the root node feature\n",
        "        \n",
        "        for value in np.unique(data[best_feature]):\n",
        "            value = value\n",
        "            #Split the dataset along the value of the feature with the largest information gain and therwith create sub_datasets\n",
        "            sub_data = data.where(data[best_feature] == value).dropna()\n",
        "            \n",
        "            #Call the ID3 algorithm for each of those sub_datasets with the new parameters --> Here the recursion comes in!\n",
        "            subtree = ID3(sub_data,insurance_data,features,target_attribute_name,parent_node_class)\n",
        "            \n",
        "            #Add the sub tree, grown from the sub_dataset to the tree under the root node\n",
        "            tree[best_feature][value] = subtree\n",
        "            \n",
        "        return(tree)"
      ],
      "execution_count": null,
      "outputs": []
    },
    {
      "cell_type": "code",
      "metadata": {
        "id": "VDdcPyOSoWb_"
      },
      "source": [
        "def predict(query,tree,default = 1):\n",
        "    #1.\n",
        "    for key in list(query.keys()):\n",
        "        if key in list(tree.keys()):\n",
        "            #2.\n",
        "            try:\n",
        "                result = tree[key][query[key]] \n",
        "            except:\n",
        "                return default\n",
        "  \n",
        "            #3.\n",
        "            result = tree[key][query[key]]\n",
        "            #4.\n",
        "            if isinstance(result,dict):\n",
        "                return predict(query,result)\n",
        "\n",
        "            else:\n",
        "                return result"
      ],
      "execution_count": null,
      "outputs": []
    },
    {
      "cell_type": "code",
      "metadata": {
        "id": "DFzlIpc8odIZ"
      },
      "source": [
        "def test(data,tree):\n",
        "    #Create new query instances by simply removing the target feature column from the original dataset and \n",
        "    #convert it to a dictionary\n",
        "    queries = data.iloc[:,:-1].to_dict(orient = \"Response\")\n",
        "    \n",
        "    #Create a empty DataFrame in whose columns the prediction of the tree are stored\n",
        "    #predicted = pd.DataFrame(columns=[\"predicted\"]) \n",
        "    predicted =[]\n",
        "    #Calculate the prediction accuracy\n",
        "    for i in range(len(data)):\n",
        "       # predicted[.loc[i,\"predicted\"]] = predict(queries[i],tree,1.0) \n",
        "        #print(predict(queries[i],tree,0.0) )\n",
        "        predicted.append(predict(queries[i],tree,1.0) )\n",
        "    #print(predicted[\"predicted\"])\n",
        "    #predicted.info()\n",
        "    \n",
        "    return predicted"
      ],
      "execution_count": null,
      "outputs": []
    },
    {
      "cell_type": "code",
      "metadata": {
        "id": "vAdZ3Nbbofu1"
      },
      "source": [
        "tree = ID3(training_set,training_set,training_set.columns[:-1])"
      ],
      "execution_count": null,
      "outputs": []
    },
    {
      "cell_type": "code",
      "metadata": {
        "id": "0tGnsydUogjz",
        "colab": {
          "base_uri": "https://localhost:8080/",
          "height": 163
        },
        "outputId": "4cdab48c-1f9d-4bb9-c28c-b7cf7952c233"
      },
      "source": [
        "pprint(tree)"
      ],
      "execution_count": null,
      "outputs": [
        {
          "output_type": "error",
          "ename": "TypeError",
          "evalue": "ignored",
          "traceback": [
            "\u001b[0;31m---------------------------------------------------------------------------\u001b[0m",
            "\u001b[0;31mTypeError\u001b[0m                                 Traceback (most recent call last)",
            "\u001b[0;32m<ipython-input-42-d24b462ef760>\u001b[0m in \u001b[0;36m<module>\u001b[0;34m()\u001b[0m\n\u001b[0;32m----> 1\u001b[0;31m \u001b[0mpprint\u001b[0m\u001b[0;34m(\u001b[0m\u001b[0mtree\u001b[0m\u001b[0;34m)\u001b[0m\u001b[0;34m\u001b[0m\u001b[0;34m\u001b[0m\u001b[0m\n\u001b[0m",
            "\u001b[0;31mTypeError\u001b[0m: 'module' object is not callable"
          ]
        }
      ]
    },
    {
      "cell_type": "code",
      "metadata": {
        "id": "t25b5FP4okcy"
      },
      "source": [
        "#training_set, testing_set  = split_train_test(insuranceData, 0.98)\n",
        "predicts = test(testing_set,tree)\n",
        "total = 0\n",
        "for i in range(len(predicts)):\n",
        "    total = total + predicts[i]\n",
        "print(total)"
      ],
      "execution_count": null,
      "outputs": []
    },
    {
      "cell_type": "code",
      "metadata": {
        "id": "LKveKk08ohnK"
      },
      "source": [
        "def calPercentAccurate(pred_list, actual_list):\n",
        "    accurate = 0\n",
        "    for i in range(len(pred_list)):\n",
        "        if pred_list[i] == actual_list[i]:\n",
        "            accurate = accurate + 1\n",
        "    \n",
        "    return accurate / len(pred_list)"
      ],
      "execution_count": null,
      "outputs": []
    },
    {
      "cell_type": "code",
      "metadata": {
        "id": "X0dbNF4aoqaj"
      },
      "source": [
        "print ()\n",
        "actual = testing_set[testing_set.columns[-1]]\n",
        "print(type(predict))\n",
        "actualFrame = pd.DataFrame(actual)\n",
        "#print (predict, ' ', actualFrame)\n",
        "#print(predict[0], ' ', actualFrame[0])\n",
        "\n",
        "#predict_list = predicts.values.tolist()\n",
        "actual_list = actualFrame.values.tolist()\n",
        "#print(predict_list[0] == actual_list[0])"
      ],
      "execution_count": null,
      "outputs": []
    },
    {
      "cell_type": "code",
      "metadata": {
        "id": "evCcBypIouvB"
      },
      "source": [
        "#print( calPercentAccurate(predict_list,actual_list ))\n",
        "#print(len(actual))\n",
        "#print(len(predicts))\n",
        "#print('actual list ' ,type( actual_list))\n",
        "#type(predicts)"
      ],
      "execution_count": null,
      "outputs": []
    },
    {
      "cell_type": "code",
      "metadata": {
        "id": "6BFwhn04oxwh"
      },
      "source": [
        "def dt_confusion_matrix(test, predictions):\n",
        "    tp=0\n",
        "    fp=0\n",
        "    fn=0\n",
        "    tn=0\n",
        "    correct = 0\n",
        "    for i in range(len(test)):\n",
        "        if test[i] == predictions[i]:\n",
        "            correct += 1\n",
        "\n",
        "    for i in range(len(test)):\n",
        "        if test[i] == 0:\n",
        "            if predictions[i] == 0:\n",
        "                tp += 1\n",
        "            else:\n",
        "                fp += 1\n",
        "        else:\n",
        "            try:\n",
        "\n",
        "                if predictions[i] == 0:\n",
        "                    fn += 1\n",
        "                else:\n",
        "                    tn += 1\n",
        "            except:\n",
        "                print(\"culprit\",predictions)\n",
        "\n",
        "    print(\"Confusion matrix \\n True Positive    False Negative\")\n",
        "    print(f\"    {tp}                {fn}\")\n",
        "    print(\"False Positive    True Negative\")\n",
        "    print(f\"    {fp}                {tn}\")\n",
        "\n",
        "    print(\"Accuracy\",(tp+tn)/len(test))\n",
        "    print(\"Error Rate\",(1 - (tp+tn)//len(test) ))\n",
        "\n",
        "    recall= tp/(tp+fn)\n",
        "    precision = tp/(tp+fp)\n",
        "\n",
        "    F1= 2*(recall*precision)/(recall+precision)\n",
        "    print(\"F1\",F1)\n",
        "    return (correct / float(len(test))) * 100.0"
      ],
      "execution_count": null,
      "outputs": []
    },
    {
      "cell_type": "code",
      "metadata": {
        "id": "i_sXiuPUo0tO"
      },
      "source": [
        "dt_confusion_matrix(actual_list, predicts)"
      ],
      "execution_count": null,
      "outputs": []
    },
    {
      "cell_type": "markdown",
      "metadata": {
        "id": "ENfTnLhzBqmA"
      },
      "source": [
        "# K-nearest Neighbor start here"
      ]
    },
    {
      "cell_type": "markdown",
      "metadata": {
        "id": "gkbZMwj3X2YD"
      },
      "source": [
        "KNN Implementation"
      ]
    },
    {
      "cell_type": "code",
      "metadata": {
        "id": "qTZvr7jbBp6j"
      },
      "source": [
        "def train_test_split(attributes, labels, testSize):\n",
        "  # randomize attributes and labels\n",
        "  length = len(attributes)\n",
        "  indexes = np.arange(length)\n",
        "  np.random.shuffle(indexes)\n",
        "  \n",
        "  shuffledAttributes = attributes[indexes]\n",
        "  shuffledLabels = labels[indexes]\n",
        "\n",
        "  # split into training and testing\n",
        "  position = length - round(length / (1 / testSize))\n",
        "\n",
        "  trainData = attributes[0:position]\n",
        "  testData = attributes[position:length]\n",
        "  trainLabels = labels[0:position]\n",
        "  testLabels = labels[position:length]\n",
        "\n",
        "  return trainData, testData, trainLabels, testLabels\n",
        "\n",
        "def euclideanDistance(testData, trainData):\n",
        "  distance = float(0)\n",
        "\n",
        "  for i in range(len(testData) - 1):\n",
        "    distance += (testData[i] - trainData[i])**2\n",
        "\n",
        "  return math.sqrt(distance)\n",
        "\n",
        "\n",
        "def knnAlgo(testData, trainData, trainLabels, k):\n",
        "    predictedLabels = []   # predicted labels\n",
        "    distance = []\n",
        "    testLength = len(testData)\n",
        "    trainLength = len(trainData)\n",
        "    \n",
        "    # determine predicted labels\n",
        "    for i in range(testLength):\n",
        "        # determine di\n",
        "        for j in range(trainLength):\n",
        "            distance.append((euclideanDistance(testData[i], trainData[i]), j))\n",
        "        \n",
        "        distance = sorted(distance)   # order distances from least to greatest\n",
        "        KNN = distance[0:k]   # choose k closest neighbors\n",
        "        KNNLength = len(KNN)\n",
        "        distance = []\n",
        "        labels = []\n",
        "\n",
        "        for m in range(KNNLength):\n",
        "            labels.append(trainLabels[KNN[m][1]])\n",
        "        \n",
        "        # determine the majority label\n",
        "        majorityLabel = Counter(labels).most_common(1)[0][0]\n",
        "                      \n",
        "        predictedLabels.append(majorityLabel)\n",
        "        \n",
        "    return predictedLabels"
      ],
      "execution_count": null,
      "outputs": []
    },
    {
      "cell_type": "markdown",
      "metadata": {
        "id": "so9KrxIpby76"
      },
      "source": [
        "Transform Data From Non-numerical To Numerical"
      ]
    },
    {
      "cell_type": "code",
      "metadata": {
        "id": "Nv2zm-ySbyOm"
      },
      "source": [
        "# Drop the id column\n",
        "orig_insurance_data = orig_insurance_data.drop('id', axis = 1)\n",
        "\n",
        "gender = {'Male': 1, 'Female': 0}\n",
        "orig_insurance_data[\"Gender\"] = orig_insurance_data[\"Gender\"].map(gender)\n",
        "\n",
        "orig_insurance_data['Age'] = np.where(orig_insurance_data['Age'].between(0,25,inclusive=True), 1, orig_insurance_data['Age'])\n",
        "orig_insurance_data['Age'] = np.where(orig_insurance_data['Age'].between(26,40,inclusive=True), 2, orig_insurance_data['Age'])\n",
        "orig_insurance_data['Age'] = np.where(orig_insurance_data['Age'].between(41,60,inclusive=True), 3, orig_insurance_data['Age'])\n",
        "orig_insurance_data['Age'] = np.where(orig_insurance_data['Age'].between(61,100,inclusive=True), 4, orig_insurance_data['Age'])\n",
        "orig_insurance_data['Age'] = np.where(orig_insurance_data['Age']== '< 26', 1, orig_insurance_data['Age'])\n",
        "orig_insurance_data['Age'] = np.where(orig_insurance_data['Age']== '26-40', 2, orig_insurance_data['Age'])\n",
        "orig_insurance_data['Age'] = np.where(orig_insurance_data['Age']== '41-60', 3, orig_insurance_data['Age'])\n",
        "orig_insurance_data['Age'] = np.where(orig_insurance_data['Age']== '> 60', 4, orig_insurance_data['Age'])\n",
        "\n",
        "vehicleAge = {'> 2 Years': 2, '1-2 Year': 1, '< 1 Year': 0}\n",
        "orig_insurance_data[\"Vehicle_Age\"] = orig_insurance_data[\"Vehicle_Age\"].map(vehicleAge)\n",
        "\n",
        "vehicleDmg =  {'Yes': 1, 'No': 0}\n",
        "orig_insurance_data[\"Vehicle_Damage\"] = orig_insurance_data[\"Vehicle_Damage\"].map(vehicleDmg)"
      ],
      "execution_count": null,
      "outputs": []
    },
    {
      "cell_type": "markdown",
      "metadata": {
        "id": "ZRwdllGZ1Hn4"
      },
      "source": [
        "Imbalance of Target Label"
      ]
    },
    {
      "cell_type": "code",
      "metadata": {
        "id": "zgOPAt031Khp"
      },
      "source": [
        "attributes = orig_insurance_data[['Gender', 'Age', 'Driving_License', 'Region_Code','Previously_Insured', 'Vehicle_Age','Vehicle_Damage', 'Annual_Premium','Policy_Sales_Channel', 'Vintage']]\n",
        "labels = orig_insurance_data['Response']\n",
        "\n",
        "sn.countplot(\"Response\", data=orig_insurance_data)"
      ],
      "execution_count": null,
      "outputs": []
    },
    {
      "cell_type": "markdown",
      "metadata": {
        "id": "DD83n9dP1NL0"
      },
      "source": [
        "Rebalance Target Label"
      ]
    },
    {
      "cell_type": "code",
      "metadata": {
        "id": "bXliIc0A1NVE"
      },
      "source": [
        "theSMOTE = SMOTE()\n",
        "attributes, labels = theSMOTE.fit_resample(attributes, labels)\n",
        "\n",
        "sn.countplot(labels)"
      ],
      "execution_count": null,
      "outputs": []
    },
    {
      "cell_type": "markdown",
      "metadata": {
        "id": "vYVKW7EkYYef"
      },
      "source": [
        "Use KNN"
      ]
    },
    {
      "cell_type": "code",
      "metadata": {
        "id": "xl964_4FB4q6"
      },
      "source": [
        "# define number of rows of dataset to examine\n",
        "rows = 100000\n",
        "attributes = attributes[0:rows]\n",
        "labels = labels[0:rows]\n",
        "\n",
        "# define test size and split into train and test\n",
        "testSize = 0.3\n",
        "trainData, testData, trainLabels, testLabels = train_test_split(attributes, labels, testSize)\n",
        "\n",
        "# define number of neighbors and run knn algorithm\n",
        "k = 21\n",
        "predictedLabels = knnAlgo(testData, trainData, trainLabels, k)"
      ],
      "execution_count": null,
      "outputs": []
    },
    {
      "cell_type": "markdown",
      "metadata": {
        "id": "L2z_QaveiYmy"
      },
      "source": [
        "KNN Confusion Matrix and Accuracy"
      ]
    },
    {
      "cell_type": "code",
      "metadata": {
        "id": "BqiDhwGIiZ6W"
      },
      "source": [
        "# confusion matrix function is taken from Anish's implementation below with minor changes\n",
        "def knn_confusion_matrix(test, predictions):\n",
        "    tp=0\n",
        "    fp=0\n",
        "    fn=0\n",
        "    tn=0\n",
        "    correct = 0\n",
        "    for i in range(len(test)):\n",
        "        if test[i] == predictions[i]:\n",
        "            correct += 1\n",
        "\n",
        "    for i in range(len(test)):\n",
        "        if test[i] == 0:\n",
        "            if predictions[i] == 0:\n",
        "                tp += 1\n",
        "            else:\n",
        "                fp += 1\n",
        "        else:\n",
        "            try:\n",
        "\n",
        "                if predictions[i] == 0:\n",
        "                    fn += 1\n",
        "                else:\n",
        "                    tn += 1\n",
        "            except:\n",
        "                print(\"culprit\",predictions)\n",
        "\n",
        "    print(\"Confusion matrix \\n True Positive    False Negative\")\n",
        "    print(f\"    {tp}                {fn}\")\n",
        "    print(\"False Positive    True Negative\")\n",
        "    print(f\"    {fp}                {tn}\")\n",
        "\n",
        "    print(\"Accuracy\",(tp+tn)/len(test))\n",
        "    print(\"Error Rate\",(1 - (tp+tn)//len(test) ))\n",
        "\n",
        "    recall= tp/(tp+fn)\n",
        "    precision = tp/(tp+fp)\n",
        "\n",
        "    F1= 2*(recall*precision)/(recall+precision)\n",
        "    print(\"F1\",F1)\n",
        "    return (correct / float(len(test))) * 100.0\n",
        "\n",
        "accuracy = knn_confusion_matrix(testLabels, predictedLabels)\n",
        "print(\"Accuracy in  % is: \", accuracy)\n",
        "\n",
        "\n"
      ],
      "execution_count": null,
      "outputs": []
    },
    {
      "cell_type": "markdown",
      "metadata": {
        "id": "jRqoKvSQADIo"
      },
      "source": [
        "![image.png](data:image/png;base64,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)"
      ]
    },
    {
      "cell_type": "markdown",
      "metadata": {
        "id": "u_YYXcxYB5Qc"
      },
      "source": [
        "Naive Bayes\n"
      ]
    },
    {
      "cell_type": "code",
      "metadata": {
        "id": "vtQragj9l0B0"
      },
      "source": [
        "from google.colab import drive\n",
        "drive.mount('/content/drive')"
      ],
      "execution_count": null,
      "outputs": []
    },
    {
      "cell_type": "code",
      "metadata": {
        "id": "cBzzoUEOlb6J"
      },
      "source": [
        "# Importing library\n",
        "import math\n",
        "import random\n",
        "import csv\n",
        "\n",
        "\n",
        "\n",
        "# Encodes the non numeric variables\n",
        "def encode_class(mydata, data_column):\n",
        "    classes = []\n",
        "    for i in range(0,len(mydata)):\n",
        "        if mydata[i][data_column] not in classes:\n",
        "            classes.append(mydata[i][data_column])\n",
        "    for i in range(len(classes)):\n",
        "        for j in range(0,len(mydata)):\n",
        "            if mydata[j][data_column] == classes[i]:\n",
        "                mydata[j][data_column] = i\n",
        "    return mydata\n",
        "\n",
        "\n",
        "def process_data(data):\n",
        "    data = encode_class(data,1)  # Gender\n",
        "    data = encode_class(data, 6) # Vehicle Age\n",
        "    data = encode_class(data, 7) # Vehicle Damage\n",
        "\n",
        "    for ite in range(0, len(data)):\n",
        "        for jite in range(len(data[ite])):\n",
        "            data[ite][jite]=float(data[ite][jite])\n",
        "\n",
        "    return data\n",
        "\n",
        "\n",
        "def splitting(mydata, ratio):\n",
        "    train_num = int(len(mydata) * ratio)\n",
        "    train = []\n",
        "    # initally testset will have all the dataset  \n",
        "    test = list(mydata)\n",
        "    while len(train) < train_num:\n",
        "        # index generated randomly from range 0  \n",
        "        # to length of testset \n",
        "        index = random.randrange(len(test))\n",
        "        # from testset, pop data rows and put it in train \n",
        "        train.append(test.pop(index))\n",
        "    return train, test\n",
        "\n",
        "\n",
        "\n",
        "def groupUnderClass(mydata):\n",
        "    dict = {}\n",
        "    for i in range(len(mydata)):\n",
        "        if (mydata[i][11] not in dict):\n",
        "            dict[mydata[i][11]] = []\n",
        "        dict[mydata[i][11]].append(mydata[i])\n",
        "    return dict\n",
        "\n",
        "def mean(numbers):\n",
        "    return sum(numbers) / float(len(numbers))\n",
        "\n",
        "\n",
        "def std_dev(numbers):\n",
        "    avg = mean(numbers)\n",
        "    variance = sum([pow(x - avg, 2) for x in numbers]) / float(len(numbers) - 1)\n",
        "    return math.sqrt(variance)\n",
        "\n",
        "def MeanAndStdDev(mydata):\n",
        "    info = [(mean(attribute), std_dev(attribute)) for attribute in zip(*mydata)]\n",
        "    # eg: list = [ [a, b, c], [m, n, o], [x, y, z]]\n",
        "    # here mean of 1st attribute =(a + m+x), mean of 2nd attribute = (b + n+y)/3\n",
        "    # delete summaries of last class\n",
        "\n",
        "    del info[-1]\n",
        "    # for row in info:\n",
        "    #     print(row)\n",
        "    return info\n",
        "\n",
        "\n",
        "def MeanAndStdDevForClass(mydata):\n",
        "    info = {}\n",
        "    dict = groupUnderClass(mydata)\n",
        "    for classValue, instances in dict.items():\n",
        "        info[classValue] = MeanAndStdDev(instances)\n",
        "    return info\n",
        "\n",
        "\n",
        "def calculateGaussianProbability(x, mean, stdev):\n",
        "    expo = math.exp(-(math.pow(x - mean, 2) / (2 * math.pow(stdev, 2))))\n",
        "    return (1 / (math.sqrt(2 * math.pi) * stdev)) * expo\n",
        "\n",
        "\n",
        "def ClassProb(info, test):\n",
        "    probabilities = {}\n",
        "    for classValue, classSummaries in info.items():\n",
        "        probabilities[classValue] = 1\n",
        "        for i in range(len(classSummaries)):\n",
        "            mean, std_dev = classSummaries[i]\n",
        "            x = test[i]\n",
        "            if std_dev ==0:\n",
        "                std_dev = 0.1\n",
        "            probabilities[classValue] *= calculateGaussianProbability(x, mean, std_dev)\n",
        "    return probabilities\n",
        "\n",
        "\n",
        "def predict(info, test):\n",
        "    probabilities = ClassProb(info, test)\n",
        "    bestLabel, bestProb = None, -1\n",
        "    for classValue, probability in probabilities.items():\n",
        "        if bestLabel is None or probability > bestProb:\n",
        "            bestProb = probability\n",
        "            bestLabel = classValue\n",
        "    return bestLabel\n",
        "\n",
        "\n",
        "def getPredictions(info, test):\n",
        "    predictions = []\n",
        "    for i in range(len(test)):\n",
        "        result = predict(info, test[i])\n",
        "        predictions.append(result)\n",
        "    return predictions\n",
        "\n",
        "\n",
        "\n",
        "def confusion_matrix(test, predictions):\n",
        "    tp=0\n",
        "    fp=0\n",
        "    fn=0\n",
        "    tn=0\n",
        "    correct = 0\n",
        "    for i in range(len(test)):\n",
        "        if test[i][-1] == predictions[i]:\n",
        "            correct += 1\n",
        "\n",
        "    for i in range(len(test)):\n",
        "        if test[i][-1] == 0:\n",
        "            if predictions[i] == 0:\n",
        "                tp += 1\n",
        "            else:\n",
        "                fp += 1\n",
        "        else:\n",
        "            try:\n",
        "\n",
        "                if predictions[i] == 0:\n",
        "                    fn += 1\n",
        "                else:\n",
        "                    tn += 1\n",
        "            except:\n",
        "                print(\"culprit\",predictions)\n",
        "\n",
        "    print(\"Confusion matrix \\n True Positive    False Negative\")\n",
        "    print(f\"    {tp}                {fn}\")\n",
        "    print(\"False Positive    True Negative\")\n",
        "    print(f\"    {fp}                {tn}\")\n",
        "\n",
        "    print(\"Accuracy\",(tp+tn)/len(test))\n",
        "    print(\"Error Rate\",(1 - (tp+tn)//len(test) ))\n",
        "\n",
        "    recall= tp/(tp+fn)\n",
        "    precision = tp/(tp+fp)\n",
        "\n",
        "    F1= 2*(recall*precision)/(recall+precision)\n",
        "    print(\"F1\",F1)\n",
        "    return (correct / float(len(test))) * 100.0\n",
        "\n",
        "\n",
        "\n",
        "filename = '/content/drive/MyDrive/UCR_Courses/cs235_DataMining/Project/train.csv'\n",
        "\n",
        "\n",
        "mydata = csv.reader(open(filename, \"rt\"))\n",
        "mydata = list(mydata)\n",
        "mydata = process_data(mydata[1:])\n",
        "\n",
        "\n",
        "for i in range(1,len(mydata)):\n",
        "    mydata[i] = [float(x) for x in mydata[i]]\n",
        "\n",
        "\n",
        "\n",
        "ratio = 0.7\n",
        "train_data, test_data = splitting(mydata, ratio)\n",
        "print('Total number of examples are: ', len(mydata))\n",
        "print('Out of these, training examples are: ', len(train_data))\n",
        "print(\"Test examples are: \", len(test_data))\n",
        "\n",
        "\n",
        "info = MeanAndStdDevForClass(train_data)\n",
        "\n",
        "predictions = getPredictions(info, test_data)\n",
        "accuracy = confusion_matrix(test_data, predictions)\n",
        "print(\"Accuracy in  % is: \", accuracy)\n"
      ],
      "execution_count": null,
      "outputs": []
    },
    {
      "cell_type": "markdown",
      "metadata": {
        "id": "RQNJnkn-7hPm"
      },
      "source": [
        "## References"
      ]
    },
    {
      "cell_type": "markdown",
      "metadata": {
        "id": "o24bD8DE7jC_"
      },
      "source": [
        "*   CS235 Lecture Slides and Recordings\n",
        "*   https://sebastianraschka.com/faq/docs/lazy-knn.html\n",
        "*   https://people.revoledu.com/kardi/tutorial/Similarity/EuclideanDistance.html\n",
        "*   http://blog.xnextcon.com/?p=213\n",
        "*   https://towardsdatascience.com/knn-k-nearest-neighbors-1-a4707b24bd1d\n",
        "*   https://nbviewer.jupyter.org/gist/jwdink/9715a1a30e8c7f50a572\n",
        "*   https://www.quora.com/How-can-I-choose-the-best-K-in-KNN-K-nearest-neighbour-classification\n",
        "*   https://deepai.org/machine-learning-glossary-and-terms/kNN\n",
        "\n",
        "\n"
      ]
    }
  ]
}